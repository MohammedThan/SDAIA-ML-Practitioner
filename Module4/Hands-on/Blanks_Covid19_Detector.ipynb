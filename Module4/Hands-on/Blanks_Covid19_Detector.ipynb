{
  "cells": [
    {
      "cell_type": "markdown",
      "metadata": {
        "id": "f9UhuIfIkJ1m"
      },
      "source": [
        "# COVID 19 Detection using Logistic Regression"
      ]
    },
    {
      "cell_type": "markdown",
      "metadata": {
        "id": "J6UNLJWyhGnM"
      },
      "source": [
        "## Data Description\n",
        "The covid_dataset we'll use is fake generated data that comprises the following features:\n",
        "\n",
        "- Age: Represents the age of the patients in years. It ranges from 18 to 89.\n",
        "\n",
        "- Temperature: Indicates the body temperature of the patients. The values are normally distributed around 37.5 with a standard deviation of 0.5.\n",
        "\n",
        "- Cough: Indicates whether the patients have a cough. It is a categorical feature with two options: \"Yes\" or \"No\".\n",
        "\n",
        "- Sore Throat: Indicates whether the patients have a sore throat. It is a categorical feature with two options: \"Yes\" or \"No\".\n",
        "\n",
        "- Fatigue: Indicates whether the patients experience fatigue. It is a categorical feature with two options: \"Yes\" or \"No\".\n",
        "\n",
        "- Daily Vitamin D Intake: Represents the daily intake of vitamin D in International Units (IU). The values range from 400 to 2000 and are randomly generated.\n",
        "\n",
        "- COVID-19 Positive: Indicates whether the patients are COVID-19 positive. It is a categorical target variable with two options: \"Yes\" or \"No\"."
      ]
    },
    {
      "cell_type": "code",
      "execution_count": 1,
      "metadata": {
        "id": "_F-wFolfhjIA"
      },
      "outputs": [
        {
          "data": {
            "text/html": [
              "<div>\n",
              "<style scoped>\n",
              "    .dataframe tbody tr th:only-of-type {\n",
              "        vertical-align: middle;\n",
              "    }\n",
              "\n",
              "    .dataframe tbody tr th {\n",
              "        vertical-align: top;\n",
              "    }\n",
              "\n",
              "    .dataframe thead th {\n",
              "        text-align: right;\n",
              "    }\n",
              "</style>\n",
              "<table border=\"1\" class=\"dataframe\">\n",
              "  <thead>\n",
              "    <tr style=\"text-align: right;\">\n",
              "      <th></th>\n",
              "      <th>Age</th>\n",
              "      <th>Temperature</th>\n",
              "      <th>Cough</th>\n",
              "      <th>Sore Throat</th>\n",
              "      <th>Fatigue</th>\n",
              "      <th>Daily Vitamin D Intake</th>\n",
              "      <th>COVID-19 Positive</th>\n",
              "    </tr>\n",
              "  </thead>\n",
              "  <tbody>\n",
              "    <tr>\n",
              "      <th>0</th>\n",
              "      <td>69</td>\n",
              "      <td>37.371591</td>\n",
              "      <td>No</td>\n",
              "      <td>Yes</td>\n",
              "      <td>Yes</td>\n",
              "      <td>542</td>\n",
              "      <td>Yes</td>\n",
              "    </tr>\n",
              "    <tr>\n",
              "      <th>1</th>\n",
              "      <td>32</td>\n",
              "      <td>38.012143</td>\n",
              "      <td>No</td>\n",
              "      <td>Yes</td>\n",
              "      <td>No</td>\n",
              "      <td>1624</td>\n",
              "      <td>No</td>\n",
              "    </tr>\n",
              "    <tr>\n",
              "      <th>2</th>\n",
              "      <td>89</td>\n",
              "      <td>36.688738</td>\n",
              "      <td>Yes</td>\n",
              "      <td>No</td>\n",
              "      <td>No</td>\n",
              "      <td>1603</td>\n",
              "      <td>No</td>\n",
              "    </tr>\n",
              "    <tr>\n",
              "      <th>3</th>\n",
              "      <td>78</td>\n",
              "      <td>37.670494</td>\n",
              "      <td>Yes</td>\n",
              "      <td>Yes</td>\n",
              "      <td>Yes</td>\n",
              "      <td>1113</td>\n",
              "      <td>Yes</td>\n",
              "    </tr>\n",
              "    <tr>\n",
              "      <th>4</th>\n",
              "      <td>38</td>\n",
              "      <td>37.512786</td>\n",
              "      <td>Yes</td>\n",
              "      <td>No</td>\n",
              "      <td>No</td>\n",
              "      <td>1787</td>\n",
              "      <td>No</td>\n",
              "    </tr>\n",
              "    <tr>\n",
              "      <th>...</th>\n",
              "      <td>...</td>\n",
              "      <td>...</td>\n",
              "      <td>...</td>\n",
              "      <td>...</td>\n",
              "      <td>...</td>\n",
              "      <td>...</td>\n",
              "      <td>...</td>\n",
              "    </tr>\n",
              "    <tr>\n",
              "      <th>995</th>\n",
              "      <td>27</td>\n",
              "      <td>37.580782</td>\n",
              "      <td>Yes</td>\n",
              "      <td>Yes</td>\n",
              "      <td>Yes</td>\n",
              "      <td>1952</td>\n",
              "      <td>No</td>\n",
              "    </tr>\n",
              "    <tr>\n",
              "      <th>996</th>\n",
              "      <td>51</td>\n",
              "      <td>37.200816</td>\n",
              "      <td>No</td>\n",
              "      <td>Yes</td>\n",
              "      <td>Yes</td>\n",
              "      <td>1974</td>\n",
              "      <td>No</td>\n",
              "    </tr>\n",
              "    <tr>\n",
              "      <th>997</th>\n",
              "      <td>72</td>\n",
              "      <td>38.320523</td>\n",
              "      <td>Yes</td>\n",
              "      <td>No</td>\n",
              "      <td>No</td>\n",
              "      <td>703</td>\n",
              "      <td>No</td>\n",
              "    </tr>\n",
              "    <tr>\n",
              "      <th>998</th>\n",
              "      <td>49</td>\n",
              "      <td>37.624599</td>\n",
              "      <td>No</td>\n",
              "      <td>No</td>\n",
              "      <td>Yes</td>\n",
              "      <td>1341</td>\n",
              "      <td>No</td>\n",
              "    </tr>\n",
              "    <tr>\n",
              "      <th>999</th>\n",
              "      <td>67</td>\n",
              "      <td>37.710737</td>\n",
              "      <td>No</td>\n",
              "      <td>No</td>\n",
              "      <td>No</td>\n",
              "      <td>1462</td>\n",
              "      <td>No</td>\n",
              "    </tr>\n",
              "  </tbody>\n",
              "</table>\n",
              "<p>1000 rows × 7 columns</p>\n",
              "</div>"
            ],
            "text/plain": [
              "     Age  Temperature Cough Sore Throat Fatigue  Daily Vitamin D Intake  \\\n",
              "0     69    37.371591    No         Yes     Yes                     542   \n",
              "1     32    38.012143    No         Yes      No                    1624   \n",
              "2     89    36.688738   Yes          No      No                    1603   \n",
              "3     78    37.670494   Yes         Yes     Yes                    1113   \n",
              "4     38    37.512786   Yes          No      No                    1787   \n",
              "..   ...          ...   ...         ...     ...                     ...   \n",
              "995   27    37.580782   Yes         Yes     Yes                    1952   \n",
              "996   51    37.200816    No         Yes     Yes                    1974   \n",
              "997   72    38.320523   Yes          No      No                     703   \n",
              "998   49    37.624599    No          No     Yes                    1341   \n",
              "999   67    37.710737    No          No      No                    1462   \n",
              "\n",
              "    COVID-19 Positive  \n",
              "0                 Yes  \n",
              "1                  No  \n",
              "2                  No  \n",
              "3                 Yes  \n",
              "4                  No  \n",
              "..                ...  \n",
              "995                No  \n",
              "996                No  \n",
              "997                No  \n",
              "998                No  \n",
              "999                No  \n",
              "\n",
              "[1000 rows x 7 columns]"
            ]
          },
          "execution_count": 1,
          "metadata": {},
          "output_type": "execute_result"
        }
      ],
      "source": [
        "import pandas as pd\n",
        "data = pd.read_csv('covid_dataset.csv')\n",
        "data"
      ]
    },
    {
      "cell_type": "markdown",
      "metadata": {
        "id": "A0tVemaIhwXS"
      },
      "source": [
        "## Data Exploration"
      ]
    },
    {
      "cell_type": "code",
      "execution_count": 3,
      "metadata": {
        "id": "iRNVHJbPitRE"
      },
      "outputs": [
        {
          "name": "stdout",
          "output_type": "stream",
          "text": [
            "Missing Values:\n",
            " Age                       0\n",
            "Temperature               0\n",
            "Cough                     0\n",
            "Sore Throat               0\n",
            "Fatigue                   0\n",
            "Daily Vitamin D Intake    0\n",
            "COVID-19 Positive         0\n",
            "dtype: int64\n",
            "Statistical Measures:\n",
            "                Age  Temperature  Daily Vitamin D Intake\n",
            "count  1000.000000  1000.000000             1000.000000\n",
            "mean     52.881000    37.531243             1200.279000\n",
            "std      20.958915     0.510427              459.931364\n",
            "min      18.000000    35.824195              403.000000\n",
            "25%      34.750000    37.191691              814.000000\n",
            "50%      52.500000    37.526769             1199.000000\n",
            "75%      71.000000    37.880216             1612.250000\n",
            "max      89.000000    39.083686             1999.000000\n"
          ]
        },
        {
          "data": {
            "image/png": "[encoded data removed]",
            "text/plain": [
              "<Figure size 640x480 with 1 Axes>"
            ]
          },
          "metadata": {},
          "output_type": "display_data"
        }
      ],
      "source": [
        "\n",
        "import matplotlib.pyplot as plt\n",
        "\n",
        "\n",
        "# Check for missing values\n",
        "missing_values = data.isnull().sum()\n",
        "print(\"Missing Values:\\n\", missing_values)\n",
        "\n",
        "# Calculate statistical measures\n",
        "statistics = data.describe()\n",
        "print(\"Statistical Measures:\\n\", statistics)\n",
        "\n",
        "\n",
        "# Create a box plot for outlier detection\n",
        "data.boxplot(column=['Age', 'Temperature', 'Daily Vitamin D Intake'])\n",
        "plt.title('Box Plot')\n",
        "plt.ylabel('Values')\n",
        "plt.show()"
      ]
    },
    {
      "cell_type": "markdown",
      "metadata": {
        "id": "GYGyZtOmi3G5"
      },
      "source": [
        "Let's create a separate plot for temperature"
      ]
    },
    {
      "cell_type": "code",
      "execution_count": 6,
      "metadata": {
        "id": "f49nPKy4i9E1"
      },
      "outputs": [
        {
          "data": {
            "image/png": "[encoded data removed]",
            "text/plain": [
              "<Figure size 640x480 with 1 Axes>"
            ]
          },
          "metadata": {},
          "output_type": "display_data"
        }
      ],
      "source": [
        "data.boxplot(column=['Temperature'])\n",
        "plt.title('Box Plot')\n",
        "plt.ylabel('Values')\n",
        "plt.show()"
      ]
    },
    {
      "cell_type": "markdown",
      "metadata": {
        "id": "YCYf8hPwjCeZ"
      },
      "source": [
        "Temperature higher than the maximum or lower than the minimum might not always be outliers!"
      ]
    },
    {
      "cell_type": "markdown",
      "metadata": {
        "id": "WMoMjrU2jlA7"
      },
      "source": [
        "## Fix Data Types"
      ]
    },
    {
      "cell_type": "code",
      "execution_count": 8,
      "metadata": {
        "id": "RZroUVk-jwbj"
      },
      "outputs": [
        {
          "data": {
            "text/html": [
              "<div>\n",
              "<style scoped>\n",
              "    .dataframe tbody tr th:only-of-type {\n",
              "        vertical-align: middle;\n",
              "    }\n",
              "\n",
              "    .dataframe tbody tr th {\n",
              "        vertical-align: top;\n",
              "    }\n",
              "\n",
              "    .dataframe thead th {\n",
              "        text-align: right;\n",
              "    }\n",
              "</style>\n",
              "<table border=\"1\" class=\"dataframe\">\n",
              "  <thead>\n",
              "    <tr style=\"text-align: right;\">\n",
              "      <th></th>\n",
              "      <th>Age</th>\n",
              "      <th>Temperature</th>\n",
              "      <th>Cough</th>\n",
              "      <th>Sore Throat</th>\n",
              "      <th>Fatigue</th>\n",
              "      <th>Daily Vitamin D Intake</th>\n",
              "      <th>COVID-19 Positive</th>\n",
              "    </tr>\n",
              "  </thead>\n",
              "  <tbody>\n",
              "    <tr>\n",
              "      <th>0</th>\n",
              "      <td>69</td>\n",
              "      <td>37.371591</td>\n",
              "      <td>0</td>\n",
              "      <td>1</td>\n",
              "      <td>1</td>\n",
              "      <td>542</td>\n",
              "      <td>1</td>\n",
              "    </tr>\n",
              "    <tr>\n",
              "      <th>1</th>\n",
              "      <td>32</td>\n",
              "      <td>38.012143</td>\n",
              "      <td>0</td>\n",
              "      <td>1</td>\n",
              "      <td>0</td>\n",
              "      <td>1624</td>\n",
              "      <td>0</td>\n",
              "    </tr>\n",
              "    <tr>\n",
              "      <th>2</th>\n",
              "      <td>89</td>\n",
              "      <td>36.688738</td>\n",
              "      <td>1</td>\n",
              "      <td>0</td>\n",
              "      <td>0</td>\n",
              "      <td>1603</td>\n",
              "      <td>0</td>\n",
              "    </tr>\n",
              "    <tr>\n",
              "      <th>3</th>\n",
              "      <td>78</td>\n",
              "      <td>37.670494</td>\n",
              "      <td>1</td>\n",
              "      <td>1</td>\n",
              "      <td>1</td>\n",
              "      <td>1113</td>\n",
              "      <td>1</td>\n",
              "    </tr>\n",
              "    <tr>\n",
              "      <th>4</th>\n",
              "      <td>38</td>\n",
              "      <td>37.512786</td>\n",
              "      <td>1</td>\n",
              "      <td>0</td>\n",
              "      <td>0</td>\n",
              "      <td>1787</td>\n",
              "      <td>0</td>\n",
              "    </tr>\n",
              "  </tbody>\n",
              "</table>\n",
              "</div>"
            ],
            "text/plain": [
              "   Age  Temperature  Cough  Sore Throat  Fatigue  Daily Vitamin D Intake  \\\n",
              "0   69    37.371591      0            1        1                     542   \n",
              "1   32    38.012143      0            1        0                    1624   \n",
              "2   89    36.688738      1            0        0                    1603   \n",
              "3   78    37.670494      1            1        1                    1113   \n",
              "4   38    37.512786      1            0        0                    1787   \n",
              "\n",
              "   COVID-19 Positive  \n",
              "0                  1  \n",
              "1                  0  \n",
              "2                  0  \n",
              "3                  1  \n",
              "4                  0  "
            ]
          },
          "execution_count": 8,
          "metadata": {},
          "output_type": "execute_result"
        }
      ],
      "source": [
        "\n",
        "# Define the encoding dictionary\n",
        "encoding_dict = {\n",
        "    'Cough': {'No': 0, 'Yes': 1},\n",
        "    'Sore Throat': {'No': 0, 'Yes': 1},\n",
        "    'Fatigue': {'No': 0, 'Yes': 1},\n",
        "    'COVID-19 Positive': {'No': 0, 'Yes': 1}\n",
        "}\n",
        "\n",
        "# Apply encoding to the DataFrame\n",
        "data.replace(encoding_dict, inplace=True)\n",
        "\n",
        "# Display the updated DataFrame\n",
        "(data.head())"
      ]
    },
    {
      "cell_type": "markdown",
      "metadata": {
        "id": "xrZG5urzjSG4"
      },
      "source": [
        "## Modeling"
      ]
    },
    {
      "cell_type": "markdown",
      "metadata": {
        "id": "j6kuVmu1jXX5"
      },
      "source": [
        "### Split the Data"
      ]
    },
    {
      "cell_type": "code",
      "execution_count": 10,
      "metadata": {
        "id": "ZaMAwVnOjUsp"
      },
      "outputs": [],
      "source": [
        "\n",
        "from sklearn.model_selection import train_test_split\n",
        "from sklearn.linear_model import LogisticRegression\n",
        "from sklearn.metrics import accuracy_score\n",
        "\n",
        "\n",
        "# Split the data into features (X) and target (y)\n",
        "X=data.drop(columns=['COVID-19 Positive'],axis=1)\n",
        "y=data['COVID-19 Positive']\n",
        "\n",
        "\n",
        "\n",
        "# Split the data into training and test sets\n",
        "X_train, X_test, y_train, y_test = train_test_split(X, y, test_size=0.2, random_state=42)\n",
        "\n"
      ]
    },
    {
      "cell_type": "markdown",
      "metadata": {
        "id": "MGhayg7vjaK4"
      },
      "source": [
        "### Fit and evaluate the classifier"
      ]
    },
    {
      "cell_type": "code",
      "execution_count": 11,
      "metadata": {
        "id": "0ij6qxIgjcc5"
      },
      "outputs": [
        {
          "name": "stdout",
          "output_type": "stream",
          "text": [
            "Accuracy: 0.915\n"
          ]
        }
      ],
      "source": [
        "\n",
        "# Create a logistic regression model\n",
        "model = LogisticRegression()\n",
        "\n",
        "# Fit the model on the training data\n",
        "model.fit(X_train, y_train)\n",
        "\n",
        "# Make predictions on the test set\n",
        "y_pred = model.predict(X_test)\n",
        "\n",
        "# Calculate the accuracy of the model\n",
        "accuracy = accuracy_score(y_test, y_pred)\n",
        "print(\"Accuracy:\", accuracy)\n"
      ]
    },
    {
      "cell_type": "code",
      "execution_count": null,
      "metadata": {},
      "outputs": [],
      "source": []
    }
  ],
  "metadata": {
    "colab": {
      "provenance": []
    },
    "kernelspec": {
      "display_name": "Python 3",
      "name": "python3"
    },
    "language_info": {
      "codemirror_mode": {
        "name": "ipython",
        "version": 3
      },
      "file_extension": ".py",
      "mimetype": "text/x-python",
      "name": "python",
      "nbconvert_exporter": "python",
      "pygments_lexer": "ipython3",
      "version": "3.11.4"
    }
  },
  "nbformat": 4,
  "nbformat_minor": 0
}
